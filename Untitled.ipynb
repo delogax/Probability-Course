{
 "cells": [
  {
   "cell_type": "markdown",
   "metadata": {},
   "source": [
    "### Varianza\n",
    "\n",
    "La varianza de una variable aleatoria es una característica numérica que proporciona una idea de la dispersión de la variable aleatoria respecto de su esperanza. \n"
   ]
  },
  {
   "cell_type": "markdown",
   "metadata": {},
   "source": [
    "\n",
    "1.- Considerando una v.a $X$, con media $\\mu=E[X]$,  y otra v.a con su PMF con mayor disperción (dibujar)\n",
    "2.- ¿Qué se puede decir de la esperanza de la distancia que hay de la media?\n",
    "    $$ E[X-\\mu]=E[X]-\\mu=\\mu - \\mu =0$$\n",
    "    no da ninguna información\n",
    "    \n",
    "3.- el promedio teórico de las desviaciones cuadráticas de los diferentes valores que puede tomar la variable respecto de su valor medio teórico o esperanza\n",
    "$$Var(X)=E[(X-\\mu)^2]$$\n",
    "Notar que: $Var(X)\\geq 0$\n",
    "\n",
    "4.- ¿Cómo calcular la varianza? usando la regla del valor esperado $E[g(x)=\\sum_x g(x)p_x(x)]$\n",
    "\n",
    "5.- La desviación estandar: $\\sigma_x=\\sqrt{Var(X)}$\n",
    "\n",
    "Propiedades:\n",
    "\n",
    " 1.- $Var(aX + b)= a^2 Var(x)$ (pizarra)\n",
    "    \n",
    "   Ejemplo: $Var(3-4X)=(-4)^2Var(X)$\n",
    "         \n",
    " \n",
    " 2.- Formula usual: (pizarra)\n",
    " $$ Var(X)=E[X^2] - (E[X])^2$$\n"
   ]
  },
  {
   "cell_type": "markdown",
   "metadata": {},
   "source": [
    "Ejercicio: \n",
    "\n",
    "1.- Supongamos que $Var(x)=2$. Cuál es la varianza de $2-3X$?, \n",
    "$$Var(2-3X)=?$$\n",
    "\n",
    "2.-Es siempre posible que $E[X^2]\\geq (E[x])^2$? \n",
    "\n"
   ]
  },
  {
   "cell_type": "markdown",
   "metadata": {},
   "source": [
    "### Varianza de Bernoulli\n",
    "\n",
    "1.- $Var(X)=\\sum_x (x - E[X])^2 p_x(X)$\n",
    "\n",
    "2.- $Var(X)=E[x^2] - (E[X])^2$\n"
   ]
  },
  {
   "cell_type": "code",
   "execution_count": 20,
   "metadata": {},
   "outputs": [
    {
     "data": {
      "image/png": "[encoded data removed]",
      "text/plain": [
       "<Figure size 432x288 with 1 Axes>"
      ]
     },
     "metadata": {
      "needs_background": "light"
     },
     "output_type": "display_data"
    }
   ],
   "source": [
    "import scipy.stats as ss\n",
    "import numpy as np\n",
    "import matplotlib.pyplot as plt\n",
    "\n",
    "# Graficando Bernoulli\n",
    "p =  0.5# parametro de forma \n",
    "bernoulli = ss.bernoulli(p)\n",
    "x = np.arange(-10, 11)\n",
    "fmp = bernoulli.pmf(x) # Función de Masa de Probabilidad\n",
    "fig, ax = plt.subplots()\n",
    "ax.plot(x, fmp, 'bo')\n",
    "ax.vlines(x, 0, fmp, colors='b', lw=5, alpha=0.4)\n",
    "ax.set_yticks([0., 0.2, 0.4, 0.6])\n",
    "plt.title('Distribución Bernoulli')\n",
    "plt.ylabel('probabilidad')\n",
    "plt.xlabel('valores')\n",
    "plt.show()"
   ]
  },
  {
   "cell_type": "markdown",
   "metadata": {},
   "source": [
    "# Conditional PMFs and expectations given an event"
   ]
  },
  {
   "cell_type": "markdown",
   "metadata": {},
   "source": [
    "$px(x)=P(X=x)$\n",
    "\n",
    "$\\sum_x px(x)=1$\n",
    "\n",
    "* Sea A un evento -> usando probabilidades condicionales \n",
    "\n",
    "* tenenemos la probabilidad condicional: $px|A(x)=P(X=x|A)$, con $P(A)>0$\n",
    "\n",
    "* De igual forma se cumple que: \n",
    "$$\\sum_x px|A(x)=1$$\n",
    "\n",
    "$$E[x]=\\sum_x x px(x)$$\n",
    "\n",
    "$$E[g(x)]=\\sum_x g(x) px(x)$$\n",
    "\n",
    "* La variable condicional también tiene definida su media: \n",
    "\n",
    "$$E[x|A]=\\sum_x x px|A(x)$$\n",
    "\n",
    "$$E[g(x)|A]=\\sum_x g(x) px|A(x)$$\n",
    "\n",
    "### Ejemplo\n",
    "\n",
    "$Px(x)$, $x$ v.a Uniforme ($var(x)=\\sum_x (x-E[x])^2 px(x)$)\n",
    "\n",
    "* $E[x]=2.5$\n",
    "* $Var(x)=\\frac{1}{12}(b-a+2)=?$\n",
    "* Sea $A=\\{x\\geq 2\\}$\n",
    "* Cuánto vale $E[x|A]$ y $var(x|A)$ ?"
   ]
  },
  {
   "cell_type": "markdown",
   "metadata": {},
   "source": [
    "### Ejercicio\n",
    "\n",
    "En el ejemplo anterior vimos que la distribución condicional de $x$, la cual era uniforme sobre un rango pequeño (que tiene menos incertidumbre), tenía una menor varianza, es decir $var(X|A)\\leq var(x)$. En este ejemplo se muestra que esto no es siempre cierto. \n",
    "\n",
    "* Sea $Y$ una v.a uniforme en $\\{0,1,2\\}$ y $B$ el evento de $Y$ que pertenece a $\\{0,2\\}$\n",
    "\n",
    "* a) ¿Cuál es la varianza de $Y$?\n",
    "\n",
    "* a) ¿Cuál es la varianza condicional de $(Y|B)$?\n"
   ]
  },
  {
   "cell_type": "markdown",
   "metadata": {},
   "source": [
    "## Probabilidad Total\n",
    "\n",
    "$$P(B)=P(A_1)P(B|A_1)+ \\ldots + P(A_n) P(B|A_n)$$\n",
    "\n",
    "* Sea $B=\\{X=x\\}$\n",
    "* $px(x)=P(A_1)px|A_1(x)+ \\ldots + px|A_n(x)$\n",
    "\n",
    "Para toda $x$ pasa que:\n",
    "\n",
    "$\\sum_x px(x) = P(A_1)\\sum_x px|A_1(x) + \\ldots + P(A_n)\\sum_x px|A_n(x)$\n",
    "\n",
    "* Entonces $E[x]=P(A_1)E[x|A_1] + \\ldots + P(A_n) E[x|A_n]$"
   ]
  },
  {
   "cell_type": "markdown",
   "metadata": {},
   "source": [
    "#### Probabilidad condicional para v.a Geométrica\n",
    "\n",
    "* sea $X$ un número independiente de lanzamientos de una moneda hasta salir la primera cara (H) $P(H)=p$\n",
    "\n",
    "* $px(k)=(1-p)^(k-1)p$, $k=1,2,...$\n",
    "\n",
    "* Sin memoria: el número de lanzamientos de monedas restantes, condicionados a Tails en el primer lanzamiento, es geométrico, con el parámetro p\n",
    "\n",
    "* Condicionado en $x>1$, $x-1$ es geométrico con parámetro p\n",
    "\n",
    "* $px-1|x>1 (k) = px (k)$\n",
    "\n",
    "* Generalizando: Condicionado en $x>n$, $x-n$ es geométrico con parámetro p\n",
    "\n",
    "##### Media de v.a Geométrica\n",
    "\n",
    "* $E[x]= \\sum_{k=1}^\\infty kpx(k) = \\sum_{k=1}^\\infty k(1-p)^(k-1)p$\n",
    "\n",
    "* $E[x]=1/p$\n",
    "\n",
    "##### Ejemplo\n",
    "\n",
    "* Se tienen dos monedas, A y B. Por cada lanzamiento de A, se obtienen Heads con probabilidad de 1/2; por cada lanzamiento de B, se obtienen Heads con probabilidad de 1/3. Todos los lanzamientos de la misma moneda son independientes. Seleccionamos una moneda de manera aleatoria, donde la probabilidad de seleccionar A es 1/4, y entonces se lanza hasta que Un Head se obtenga por primera vez. Cuál es la esperanza de lanzamientos hasta la primera Head:\n",
    "\n",
    "* Sea $X$ una v.a geométrica y assuma que $var(x)=5$. a) cual es la varianza condicional $var(x-4|x>4)$?. b) cuál es la varianza condicional $var(x-8|x>4)$?\n",
    "\n",
    "\n",
    "\n",
    "\n"
   ]
  },
  {
   "cell_type": "code",
   "execution_count": null,
   "metadata": {},
   "outputs": [],
   "source": []
  }
 ],
 "metadata": {
  "kernelspec": {
   "display_name": "Python 3",
   "language": "python",
   "name": "python3"
  },
  "language_info": {
   "codemirror_mode": {
    "name": "ipython",
    "version": 3
   },
   "file_extension": ".py",
   "mimetype": "text/x-python",
   "name": "python",
   "nbconvert_exporter": "python",
   "pygments_lexer": "ipython3",
   "version": "3.7.3"
  }
 },
 "nbformat": 4,
 "nbformat_minor": 2
}
